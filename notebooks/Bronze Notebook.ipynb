{
 "cells": [
  {
   "cell_type": "markdown",
   "metadata": {
    "application/vnd.databricks.v1+cell": {
     "cellMetadata": {},
     "inputWidgets": {},
     "nuid": "f01fb5bf-1a84-473c-944a-66e2670ee4a2",
     "showTitle": false,
     "tableResultSettingsMap": {},
     "title": ""
    }
   },
   "source": [
    "# 1. Setup stage, RUN IT BEFORE ALL\n"
   ]
  },
  {
   "cell_type": "markdown",
   "metadata": {
    "application/vnd.databricks.v1+cell": {
     "cellMetadata": {},
     "inputWidgets": {},
     "nuid": "79fe4e01-dcf1-41fe-8138-373e6de0b3a6",
     "showTitle": false,
     "tableResultSettingsMap": {},
     "title": ""
    }
   },
   "source": [
    "## 1.1 Import needed libs"
   ]
  },
  {
   "cell_type": "code",
   "execution_count": 9,
   "metadata": {
    "application/vnd.databricks.v1+cell": {
     "cellMetadata": {
      "byteLimit": 2048000,
      "rowLimit": 10000
     },
     "inputWidgets": {},
     "nuid": "cb526830-6915-43e8-ba38-c3993b2b0adb",
     "showTitle": false,
     "tableResultSettingsMap": {},
     "title": ""
    }
   },
   "outputs": [],
   "source": [
    "import requests\n",
    "import json\n",
    "import concurrent.futures\n",
    "from itertools import chain\n",
    "import time\n",
    "import threading\n",
    "from queue import Queue\n",
    "from threading import Semaphore\n",
    "from itertools import product"
   ]
  },
  {
   "cell_type": "code",
   "execution_count": null,
   "metadata": {},
   "outputs": [],
   "source": [
    "## 1.2 Initialize spark session"
   ]
  },
  {
   "cell_type": "code",
   "execution_count": 18,
   "metadata": {},
   "outputs": [
    {
     "name": "stdout",
     "output_type": "stream",
     "text": [
      "🚀 Creating Spark session...\n"
     ]
    }
   ],
   "source": [
    "from src.utils.data_configure.unified_data_utils import UnifiedDataUtils\n",
    "from src.utils.spark_utils.spark_utils import create_spark_session\n",
    "\n",
    "spark = create_spark_session()\n",
    "# Initialize unified utilities\n",
    "utils = UnifiedDataUtils(spark)"
   ]
  },
  {
   "cell_type": "markdown",
   "metadata": {
    "application/vnd.databricks.v1+cell": {
     "cellMetadata": {},
     "inputWidgets": {},
     "nuid": "34fee4ed-89ed-411e-bf79-707740136402",
     "showTitle": false,
     "tableResultSettingsMap": {},
     "title": ""
    }
   },
   "source": [
    "## 2.1 Define common fetching function\n",
    "- Declare root URL and other endpoints\n",
    "- Define request's header\n",
    "- Define `fetchAPI` function\n"
   ]
  },
  {
   "cell_type": "code",
   "execution_count": 10,
   "metadata": {
    "application/vnd.databricks.v1+cell": {
     "cellMetadata": {
      "byteLimit": 2048000,
      "rowLimit": 10000
     },
     "inputWidgets": {},
     "nuid": "39585d77-9903-41d6-8099-14311f4d9d1e",
     "showTitle": false,
     "tableResultSettingsMap": {},
     "title": ""
    }
   },
   "outputs": [],
   "source": [
    "# Construct the API URL\n",
    "rootUrl = \"https://v3.football.api-sports.io\" # Configure to use variable later\n",
    "leaguesEndpoint = f\"{rootUrl}/leagues\"\n",
    "teamsEndpoint = f\"{rootUrl}/teams\"\n",
    "fixturesEndpoint = f\"{rootUrl}/fixtures\"\n",
    "# playersEndpoint = f\"{rootUrl}/players\"\n",
    "\n",
    "# Retrieve the API key from Azure Key Vault-backed secret scope\n",
    "api_key = \"dc29305c858a5512b337edba1b7c63b5\"\n",
    "\n",
    "# Define headers\n",
    "headers = {\n",
    "    'x-rapidapi-host': 'v3.football.api-sports.io',\n",
    "    'x-rapidapi-key': api_key  \n",
    "}\n",
    "\n",
    "# Define function to fetch API\n",
    "def fetchAPI(url):\n",
    "    try:\n",
    "        # Make GET request to fetch data\n",
    "        response = requests.get(url, headers=headers)\n",
    "        # Check if request is success\n",
    "        response.raise_for_status()\n",
    "        if response.status_code == 200:\n",
    "            print('Data fetched successfully')\n",
    "            return response.json()\n",
    "        else:\n",
    "            raise Exception('Error from fetching API')\n",
    "    except requests.exceptions.RequestException as e:\n",
    "            raise Exception('Error from fetching API: ', e)\n"
   ]
  },
  {
   "cell_type": "markdown",
   "metadata": {
    "application/vnd.databricks.v1+cell": {
     "cellMetadata": {},
     "inputWidgets": {},
     "nuid": "5ee3d4a7-45c8-44e1-b1b6-6b822d590361",
     "showTitle": false,
     "tableResultSettingsMap": {},
     "title": ""
    }
   },
   "source": [
    "# 3. Fetch each endpoints and save raw data into bronze storage"
   ]
  },
  {
   "cell_type": "markdown",
   "metadata": {
    "application/vnd.databricks.v1+cell": {
     "cellMetadata": {},
     "inputWidgets": {},
     "nuid": "32bb5f1e-9dad-41fe-ad6f-88efecaf4d3f",
     "showTitle": false,
     "tableResultSettingsMap": {},
     "title": ""
    }
   },
   "source": [
    "## 3.1 Call to fetch and save 'Leagues' data\n",
    "- Define file's path for output of 'League' data\n",
    "- Save fetched 'League' data into Bronze storage layer"
   ]
  },
  {
   "cell_type": "code",
   "execution_count": 21,
   "metadata": {
    "application/vnd.databricks.v1+cell": {
     "cellMetadata": {
      "byteLimit": 2048000,
      "rowLimit": 10000
     },
     "collapsed": true,
     "inputWidgets": {},
     "nuid": "37680571-fe7b-4ab2-a0c9-37074737a7ee",
     "showTitle": false,
     "tableResultSettingsMap": {},
     "title": ""
    }
   },
   "outputs": [
    {
     "name": "stdout",
     "output_type": "stream",
     "text": [
      "Data fetched successfully\n",
      "There is result!!\n",
      "Data rows: 1186\n",
      "Data saved to ../data/bronze/api_football/leagues.json\n"
     ]
    }
   ],
   "source": [
    "saveLeagueDataPath = 'api_football/leagues.json'\n",
    "\n",
    "try:\n",
    "    response = fetchAPI(leaguesEndpoint)\n",
    "    resultCount = response.get('results')\n",
    "    \n",
    "    if not resultCount:\n",
    "        print('Empty data from fetching Leagues endpoint')\n",
    "    else:\n",
    "        print('There is result!!')\n",
    "        \n",
    "        # Save the JSON data using the bronze layer path\n",
    "        data = response.get('response', [])\n",
    "        print(f\"Data rows: {resultCount}\")\n",
    "        \n",
    "        # Use the medallion architecture bronze layer\n",
    "        file_path = \"../\" + utils.get_layer_path(\"bronze\", saveLeagueDataPath)\n",
    "        \n",
    "        # Write JSON data using the unified utils method\n",
    "        success = utils.write_json_file(file_path, data)\n",
    "        \n",
    "        if success:\n",
    "            print(f\"Data saved to {file_path}\")\n",
    "        else:\n",
    "            print(f\"Failed to save data to {file_path}\")\n",
    "            \n",
    "except Exception as e:\n",
    "    print('There is error from fetching Leagues data')\n",
    "    print(e)"
   ]
  },
  {
   "cell_type": "markdown",
   "metadata": {
    "application/vnd.databricks.v1+cell": {
     "cellMetadata": {},
     "inputWidgets": {},
     "nuid": "70d7ef4e-0cb5-4daf-a073-0c54fc8ae779",
     "showTitle": false,
     "tableResultSettingsMap": {},
     "title": ""
    }
   },
   "source": [
    "## 3.2 Call to fetch and save 'Teams' data"
   ]
  },
  {
   "cell_type": "markdown",
   "metadata": {
    "application/vnd.databricks.v1+cell": {
     "cellMetadata": {},
     "inputWidgets": {},
     "nuid": "470ca92c-4a11-41c3-81ff-8c0a79b80ba9",
     "showTitle": false,
     "tableResultSettingsMap": {},
     "title": ""
    }
   },
   "source": [
    "### Define fetch 'Teams' data function\n",
    "- Due to request's rate limit (10 request/minutes), handle it by defining delay time between requests\n",
    "- Use multi workers\n",
    "- When fetching 'Teams' data, we take notice into 2 params: `league_id` and `season`"
   ]
  },
  {
   "cell_type": "code",
   "execution_count": 19,
   "metadata": {
    "application/vnd.databricks.v1+cell": {
     "cellMetadata": {
      "byteLimit": 2048000,
      "rowLimit": 10000
     },
     "inputWidgets": {},
     "nuid": "c9167662-3f1b-44d2-8b4c-a8f38d1bfd83",
     "showTitle": false,
     "tableResultSettingsMap": {},
     "title": ""
    }
   },
   "outputs": [],
   "source": [
    "\n",
    "# Configuration\n",
    "MAX_WORKERS = 3  # Conservative number to stay under limit\n",
    "REQUESTS_PER_MINUTE = 10\n",
    "DELAY = 60 / REQUESTS_PER_MINUTE  # 6 seconds between requests\n",
    "\n",
    "# Track last request time globally\n",
    "last_request_time = 0\n",
    "request_lock = threading.Lock()\n",
    "\n",
    "def fetch_teams(league_id, season=2023):\n",
    "    url = f\"{teamsEndpoint}?league={league_id}&season={season}\"\n",
    "    global last_request_time\n",
    "    try:\n",
    "        with request_lock:\n",
    "            elapsed = time.time() - last_request_time\n",
    "            if elapsed < DELAY:\n",
    "                time.sleep(DELAY - elapsed)\n",
    "            last_request_time = time.time()\n",
    "\n",
    "        # Fetch data\n",
    "        response = fetchAPI(url)\n",
    "        resultCount = response.get('results')\n",
    "        if not resultCount:\n",
    "            print(f'Empty data from fetching Teams endpoint for league {league_id} and season {season}')\n",
    "            return []\n",
    "        else:\n",
    "            data = response.get('response', [])\n",
    "            return data\n",
    "    except requests.exceptions.RequestException as e:\n",
    "            print(f\"Error fetching data from API: {e}\")\n"
   ]
  },
  {
   "cell_type": "code",
   "execution_count": 25,
   "metadata": {
    "application/vnd.databricks.v1+cell": {
     "cellMetadata": {
      "byteLimit": 2048000,
      "rowLimit": 10000
     },
     "inputWidgets": {},
     "nuid": "dfff15b2-da7b-4fb7-89ec-a4b59c0d5077",
     "showTitle": false,
     "tableResultSettingsMap": {},
     "title": ""
    }
   },
   "outputs": [
    {
     "name": "stdout",
     "output_type": "stream",
     "text": [
      "Data fetched successfully\n",
      "Data fetched successfully\n",
      "Data fetched successfully\n",
      "Data fetched successfully\n",
      "Data fetched successfully\n",
      "Data fetched successfully\n",
      "Data fetched successfully\n",
      "Data fetched successfully\n",
      "Data fetched successfully\n",
      "Data fetched successfully\n",
      "Data fetched successfully\n",
      "Data fetched successfully\n",
      "Data fetched successfully\n",
      "Data fetched successfully\n",
      "Data rows:  2102\n",
      "Data saved to ../data/bronze/api_football/teams.json\n"
     ]
    }
   ],
   "source": [
    "availableSeason = [2022, 2023]\n",
    "saveTeamDataPath = 'api_football/teams.json'\n",
    "file_path = f\"bronze/{saveTeamDataPath}\"\n",
    "\n",
    "# Instead looping through 'leagues' list, we will choose to loop through pre-defined list of league's id since there is limitation for API request per day (due to FREE subscription)\n",
    "# The pre-defined list of league/competitions will included most of major competitions in football, so we can have more other information later\n",
    "pre_defined_league_ids = [1, 2, 3, 4, 5, 15, 140, 39, 45, 143, 135, 78, 61]\n",
    "test_leagues = [140, 39, 45, 2, 3, 143, 135]\n",
    "\n",
    "# Define function for fetching teams with combinations of league and season\n",
    "def process_combination_fetch_teams():\n",
    "    # Generate all league_id/year combinations\n",
    "    combinations = list(product(test_leagues, availableSeason))\n",
    "    results = []\n",
    "\n",
    "    # Process with controlled parallelism\n",
    "    with concurrent.futures.ThreadPoolExecutor(max_workers=2) as executor:\n",
    "        # Map combinations to fetch_teams function\n",
    "        future_to_combo = {\n",
    "            executor.submit(fetch_teams, league_id, year): (league_id, year)\n",
    "            for league_id, year in combinations\n",
    "        }\n",
    "\n",
    "        # Collect results as they complete\n",
    "        for future in concurrent.futures.as_completed(future_to_combo):\n",
    "            league_id, year = future_to_combo[future]\n",
    "            try:\n",
    "                result = future.result()\n",
    "                results.append(result)\n",
    "            except Exception as e:\n",
    "                print(f\"Processing failed for {league_id}/{year}: {str(e)}\")\n",
    "    return results\n",
    "\n",
    "\n",
    "all_data = process_combination_fetch_teams()\n",
    "\n",
    "# Save raw data into bronze storage\n",
    "if not all_data:\n",
    "    print('Empty data')\n",
    "else:\n",
    "    flattenedList = list(chain.from_iterable(all_data))\n",
    "    print(f\"Data rows: \", len(flattenedList))\n",
    "    json_data = json.dumps(flattenedList, indent=4)\n",
    "    # Use the medallion architecture bronze layer\n",
    "    file_path = \"../\" + utils.get_layer_path(\"bronze\", saveTeamDataPath)\n",
    "    # Write JSON data using the unified utils method\n",
    "    success = utils.write_json_file(file_path, flattenedList)   \n",
    "    if success:\n",
    "        print(f\"Data saved to {file_path}\")\n",
    "    else:\n",
    "        print(f\"Failed to save data to {file_path}\")\n"
   ]
  },
  {
   "cell_type": "markdown",
   "metadata": {
    "application/vnd.databricks.v1+cell": {
     "cellMetadata": {},
     "inputWidgets": {},
     "nuid": "9a0de437-54c1-4b56-b402-2893b61c5f6f",
     "showTitle": false,
     "tableResultSettingsMap": {},
     "title": ""
    }
   },
   "source": [
    "## 3.3 Call to fetch 'Fixtures' data"
   ]
  },
  {
   "cell_type": "markdown",
   "metadata": {
    "application/vnd.databricks.v1+cell": {
     "cellMetadata": {},
     "inputWidgets": {},
     "nuid": "1f5f943a-4f3f-4a6c-89b0-ffd3e4fbf3b1",
     "showTitle": false,
     "tableResultSettingsMap": {},
     "title": ""
    }
   },
   "source": [
    "### Define fetch 'Fixture' data function"
   ]
  },
  {
   "cell_type": "code",
   "execution_count": 23,
   "metadata": {
    "application/vnd.databricks.v1+cell": {
     "cellMetadata": {
      "byteLimit": 2048000,
      "rowLimit": 10000
     },
     "collapsed": true,
     "inputWidgets": {},
     "nuid": "9cd29056-68a6-4278-a825-e3384eedde58",
     "showTitle": false,
     "tableResultSettingsMap": {},
     "title": ""
    }
   },
   "outputs": [],
   "source": [
    "# Configuration\n",
    "MAX_WORKERS = 3  # Conservative number to stay under limit\n",
    "REQUESTS_PER_MINUTE = 10\n",
    "DELAY = 60 / REQUESTS_PER_MINUTE  # 6 seconds between requests\n",
    "\n",
    "# Thread-safe request tracker\n",
    "request_times = Queue()\n",
    "\n",
    "# Global semaphore to control total requests\n",
    "request_semaphore = Semaphore(REQUESTS_PER_MINUTE)\n",
    "\n",
    "def fetch_fixtures(league_id, season=2023):\n",
    "    url = f\"{fixturesEndpoint}?league={league_id}&season={season}\"\n",
    "    try:\n",
    "        with request_semaphore:\n",
    "            # Start timing the request\n",
    "            start_time = time.time()\n",
    "\n",
    "            # Fetch data\n",
    "            response = fetchAPI(url)\n",
    "\n",
    "            # Calculate remaining delay time\n",
    "            request_duration = time.time() - start_time\n",
    "            remaining_delay = max(0, DELAY - request_duration)\n",
    "            time.sleep(remaining_delay)\n",
    "\n",
    "            resultCount = response.get('results')\n",
    "            if not resultCount:\n",
    "                print(f'Empty data from fetching Fixtures endpoint for league {league_id} and season {season}')\n",
    "                return []\n",
    "            else:\n",
    "                data = response.get('response', [])\n",
    "                return data\n",
    "    except requests.exceptions.RequestException as e:\n",
    "            print(f\"Error fetching data from API: {e}\")\n"
   ]
  },
  {
   "cell_type": "code",
   "execution_count": 24,
   "metadata": {
    "application/vnd.databricks.v1+cell": {
     "cellMetadata": {
      "byteLimit": 2048000,
      "rowLimit": 10000
     },
     "collapsed": true,
     "inputWidgets": {},
     "nuid": "fe9923bc-23b1-476f-9c37-022d3559d0a2",
     "showTitle": false,
     "tableResultSettingsMap": {},
     "title": ""
    }
   },
   "outputs": [
    {
     "name": "stdout",
     "output_type": "stream",
     "text": [
      "Data fetched successfully\n",
      "Data fetched successfully\n",
      "Data fetched successfully\n",
      "Data fetched successfully\n",
      "Data fetched successfully\n",
      "Data fetched successfully\n",
      "Data fetched successfully\n",
      "Data fetched successfully\n",
      "Data fetched successfully\n",
      "Data fetched successfully\n",
      "Data rows:  4066\n",
      "Data saved to ../data/bronze/api_football/fixtures.json\n"
     ]
    }
   ],
   "source": [
    "vailableSeason = [2023]\n",
    "saveFixtureDataPath = 'api_football/fixtures.json'\n",
    "file_path = \"../\" + utils.get_layer_path(\"bronze\", saveFixtureDataPath)\n",
    "\n",
    "\n",
    "# Instead looping through 'leagues' list, we will choose to loop through pre-defined list of league's id since there is limitation for API request per day (due to FREE subscription)\n",
    "# The pre-defined list of league/competitions will included most of major competitions in football, so we can have more other information later\n",
    "pre_defined_league_ids = [1, 2, 3, 4, 5, 15, 140, 39, 45, 143, 135, 78, 61]\n",
    "test_leagues = [140, 39, 45, 2, 3]\n",
    "\n",
    "# Define function for fetching teams with combinations of league and season\n",
    "def process_combination_fetch_fixtures():\n",
    "    # Generate all league_id/year combinations\n",
    "    combinations = list(product(test_leagues, availableSeason))\n",
    "    results = []\n",
    "\n",
    "    # Process with controlled parallelism\n",
    "    with concurrent.futures.ThreadPoolExecutor(max_workers=2) as executor:\n",
    "        # Map combinations to fetch_fixtures function\n",
    "        future_to_combo = {\n",
    "            executor.submit(fetch_fixtures, league_id, year): (league_id, year)\n",
    "            for league_id, year in combinations\n",
    "        }\n",
    "\n",
    "        # Collect results as they complete\n",
    "        for future in concurrent.futures.as_completed(future_to_combo):\n",
    "            league_id, year = future_to_combo[future]\n",
    "            try:\n",
    "                result = future.result()\n",
    "                results.append(result)\n",
    "            except Exception as e:\n",
    "                print(f\"Processing failed for {league_id}/{year}: {str(e)}\")\n",
    "    return results\n",
    "\n",
    "\n",
    "all_data = process_combination_fetch_fixtures()\n",
    "\n",
    "# Save raw data into bronze storage\n",
    "if not all_data:\n",
    "    print('Empty data')\n",
    "else:\n",
    "    flattenedList = list(chain.from_iterable(all_data))\n",
    "    print(f\"Data rows: \", len(flattenedList))\n",
    "    json_data = json.dumps(flattenedList, indent=4)\n",
    "    # Write JSON data using the unified utils method\n",
    "    success = utils.write_json_file(file_path, flattenedList)   \n",
    "    if success:\n",
    "        print(f\"Data saved to {file_path}\")\n",
    "    else:\n",
    "        print(f\"Failed to save data to {file_path}\")\n"
   ]
  },
  {
   "cell_type": "code",
   "execution_count": null,
   "metadata": {},
   "outputs": [],
   "source": []
  }
 ],
 "metadata": {
  "application/vnd.databricks.v1+notebook": {
   "computePreferences": null,
   "dashboards": [],
   "environmentMetadata": {
    "base_environment": "",
    "environment_version": "2"
   },
   "inputWidgetPreferences": null,
   "language": "python",
   "notebookMetadata": {
    "pythonIndentUnit": 4
   },
   "notebookName": "Bronze Notebook",
   "widgets": {}
  },
  "kernelspec": {
   "display_name": "Python 3 (ipykernel)",
   "language": "python",
   "name": "python3"
  },
  "language_info": {
   "codemirror_mode": {
    "name": "ipython",
    "version": 3
   },
   "file_extension": ".py",
   "mimetype": "text/x-python",
   "name": "python",
   "nbconvert_exporter": "python",
   "pygments_lexer": "ipython3",
   "version": "3.13.2"
  }
 },
 "nbformat": 4,
 "nbformat_minor": 4
}
